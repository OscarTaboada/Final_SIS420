{
 "cells": [
  {
   "cell_type": "code",
   "execution_count": 1,
   "metadata": {},
   "outputs": [
    {
     "data": {
      "text/plain": [
       "'One vs all'"
      ]
     },
     "execution_count": 1,
     "metadata": {},
     "output_type": "execute_result"
    }
   ],
   "source": [
    "'''FINAL-SIS420'''\n",
    "'''Taboada Rodas Oscar'''\n",
    "'''One vs all'''"
   ]
  },
  {
   "cell_type": "code",
   "execution_count": 2,
   "metadata": {},
   "outputs": [],
   "source": [
    "import os\n",
    "import numpy as np\n",
    "from matplotlib import pyplot\n",
    "from scipy import optimize\n",
    "\n",
    "import pandas as pd\n",
    "\n",
    "%matplotlib inline\n"
   ]
  },
  {
   "cell_type": "code",
   "execution_count": 3,
   "metadata": {},
   "outputs": [
    {
     "data": {
      "text/plain": [
       "(935, 18)"
      ]
     },
     "execution_count": 3,
     "metadata": {},
     "output_type": "execute_result"
    }
   ],
   "source": [
    "# data = np.loadtxt(os.path.join('7. Internet_ads', 'Anuncios_internet.csv'), delimiter = ',')\n",
    "data = np.loadtxt(os.path.join('DV.csv'), delimiter = ',')\n",
    "# data = pd.read_csv('https://query.data.world/s/yzstkado34nyn736kvzkiyztebzyzt', low_memory=False)\n",
    "\n",
    "data.shape"
   ]
  },
  {
   "cell_type": "code",
   "execution_count": 4,
   "metadata": {},
   "outputs": [
    {
     "name": "stdout",
     "output_type": "stream",
     "text": [
      "X \n",
      " [[1.200e+01 2.017e+03 5.000e+00 ... 1.000e+00 1.000e+00 2.000e+00]\n",
      " [1.200e+01 2.013e+03 4.000e+00 ... 1.000e+00 1.000e+00 2.000e+00]\n",
      " [1.900e+01 2.019e+03 5.000e+00 ... 1.000e+00 1.000e+00 2.000e+00]\n",
      " ...\n",
      " [1.700e+01 1.992e+03 5.000e+00 ... 2.000e+00 1.000e+00 2.000e+00]\n",
      " [1.300e+01 2.012e+03 5.000e+00 ... 2.000e+00 1.000e+00 2.000e+00]\n",
      " [4.000e+00 2.020e+03 4.000e+00 ... 1.000e+00 1.000e+00 2.000e+00]] \n",
      " y\n",
      " [1. 1. 1. 1. 1. 1. 1. 1. 1. 1. 0. 1. 1. 1. 1. 0. 0. 0. 1. 1. 0. 0. 1. 1.\n",
      " 1. 1. 0. 0. 1. 1. 1. 1. 1. 1. 1. 1. 0. 0. 1. 0. 1. 1. 1. 1. 1. 0. 1. 1.\n",
      " 1. 1. 1. 1. 1. 1. 0. 1. 0. 1. 1. 1. 1. 1. 1. 1. 1. 1. 1. 1. 1. 1. 1. 1.\n",
      " 1. 1. 1. 1. 1. 1. 1. 1. 1. 1. 1. 1. 1. 1. 1. 1. 1. 1. 1. 1. 1. 1. 1. 1.\n",
      " 1. 1. 1. 1. 0. 0. 0. 0. 0. 0. 1. 1. 1. 1. 1. 1. 1. 1. 1. 1. 1. 0. 1. 1.\n",
      " 0. 1. 1. 1. 1. 1. 1. 1. 1. 1. 1. 1. 1. 1. 1. 1. 1. 1. 1. 1. 1. 1. 1. 1.\n",
      " 1. 1. 1. 1. 1. 1. 1. 1. 1. 1. 1. 1. 1. 1. 1. 1. 1. 1. 1. 1. 1. 1. 1. 1.\n",
      " 1. 1. 1. 1. 1. 1. 1. 1. 1. 1. 1. 1. 1. 1. 1. 1. 1. 1. 1. 1. 1. 1. 1. 1.\n",
      " 1. 1. 1. 1. 1. 1. 1. 1. 1. 1. 1. 1. 1. 1. 1. 1. 1. 1. 1. 1. 1. 1. 1. 1.\n",
      " 1. 1. 1. 1. 1. 1. 1. 1. 1. 1. 1. 1. 1. 1. 1. 1. 1. 1. 1. 1. 1. 1. 1. 1.\n",
      " 1. 1. 1. 1. 1. 1. 1. 1. 1. 1. 1. 1. 1. 1. 1. 1. 1. 1. 1. 1. 1. 1. 1. 1.\n",
      " 1. 0. 1. 1. 1. 1. 1. 1. 1. 1. 1. 1. 1. 1. 1. 1. 1. 1. 1. 1. 1. 1. 1. 1.\n",
      " 1. 1. 1. 1. 1. 1. 1. 1. 1. 1. 1. 1. 1. 1. 1. 1. 1. 1. 1. 1. 1. 1. 1. 1.\n",
      " 1. 1. 1. 1. 1. 1. 1. 1. 1. 1. 1. 1. 1. 1. 1. 1. 1. 1. 1. 1. 1. 1. 1. 1.\n",
      " 1. 1. 1. 1. 1. 1. 1. 1. 1. 1. 1. 1. 1. 0. 1. 1. 1. 1. 1. 1. 1. 1. 0. 1.\n",
      " 1. 1. 1. 1. 1. 1. 1. 1. 1. 1. 1. 1. 1. 1. 1. 1. 1. 1. 1. 1. 1. 1. 1. 1.\n",
      " 1. 1. 1. 1. 1. 1. 1. 1. 1. 1. 1. 1. 1. 1. 1. 1. 1. 1. 1. 1. 1. 1. 1. 1.\n",
      " 1. 0. 1. 1. 1. 1. 1. 1. 1. 1. 1. 1. 1. 1. 1. 1. 1. 0. 1. 0. 0. 0. 0. 0.\n",
      " 1. 1. 1. 1. 1. 1. 1. 1. 1. 1. 1. 1. 1. 1. 1. 1. 1. 1. 1. 1. 1. 1. 1. 1.\n",
      " 1. 1. 1. 1. 1. 1. 1. 1. 1. 1. 1. 1. 1. 1. 0. 1. 1. 1. 1. 1. 1. 1. 1. 1.\n",
      " 1. 1. 1. 1. 1. 1. 1. 1. 1. 0. 1. 0. 1. 1. 1. 1. 1. 1. 1. 1. 0. 1. 1. 0.\n",
      " 1. 1. 0. 1. 1. 0. 0. 1. 1. 1. 1. 1. 1. 1. 1. 1. 1. 1. 1. 1. 1. 1. 1. 1.\n",
      " 1. 1. 1. 1. 1. 1. 1. 1. 1. 1. 1. 1. 1. 1. 1. 1. 1. 1. 1. 1. 1. 1. 1. 1.\n",
      " 1. 1. 1. 1. 1. 1. 1. 1. 1. 1. 1. 1. 1. 1. 1. 1. 1. 1. 1. 1. 1. 1. 0. 1.\n",
      " 1. 1. 1. 1. 1. 1. 1. 1. 1. 1. 1. 1. 1. 1. 1. 1. 1. 1. 1. 1. 1. 1. 1. 1.\n",
      " 1. 1. 1. 1. 1. 1. 1. 1. 1. 1. 0. 1. 1. 1. 1. 1. 1. 1. 1. 1. 1. 1. 1. 0.\n",
      " 1. 1. 1. 1. 1. 1. 0. 1. 1. 1. 1. 1. 1. 1. 1. 1. 0. 1. 0. 1. 1. 1. 1. 1.\n",
      " 0. 1. 1. 1. 1. 0. 1. 1. 1. 1. 1. 1. 1. 1. 0. 1. 1. 1. 1. 1. 1. 1. 1. 1.\n",
      " 1. 0. 0. 1. 1. 0. 1. 0. 1. 1. 1. 1. 0. 1. 1. 1. 1. 1. 1. 1. 1. 1. 1. 1.\n",
      " 1. 1. 1. 1. 1. 1. 1. 1. 1. 1. 0. 1. 0. 1. 1. 0. 1. 0. 1. 1. 1. 1. 1. 1.\n",
      " 1. 0. 1. 1. 1. 1. 1. 1. 1. 1. 1. 1. 1. 1. 1. 1. 1. 1. 1. 1. 1. 1. 1. 0.\n",
      " 1. 1. 1. 1. 1. 1. 1. 1. 1. 1. 1. 1. 1. 1. 1. 1. 1. 1. 1. 1. 1. 1. 1. 1.\n",
      " 1. 1. 1. 1. 1. 1. 1. 1. 1. 0. 1. 1. 1. 1. 1. 1. 0. 1. 1. 1. 1. 1. 1. 1.\n",
      " 1. 1. 1. 1. 1. 1. 1. 1. 1. 1. 1. 1. 1. 1. 1. 1. 1. 1. 1. 1. 1. 1. 1. 1.\n",
      " 1. 1. 1. 1. 1. 1. 1. 1. 1. 1. 1. 1. 1. 1. 1. 1. 1. 1. 1. 1. 1. 1. 1. 1.\n",
      " 1. 1. 1. 1. 1. 1. 1. 1. 1. 1. 1. 1. 1. 1. 1. 1. 1. 1. 1. 1. 1. 1. 1. 1.\n",
      " 1. 1. 1. 1. 1. 1. 1. 1. 1. 1. 1. 0. 1. 0. 1. 0. 0. 1. 0. 0. 0. 1. 0. 0.\n",
      " 1. 1. 1. 1. 1. 0. 1. 1. 1. 0. 1. 1. 1. 1. 0. 1. 0. 0. 0. 1. 1. 1. 1. 0.\n",
      " 1. 0. 1. 1. 1. 1. 1. 1. 1. 1. 1. 0. 1. 1. 0. 1. 1. 1. 1. 1. 0. 1. 1.]\n"
     ]
    }
   ],
   "source": [
    "X = data[:, :15]\n",
    "y = data[:, 17]\n",
    "\n",
    "print('X \\n',X,'\\n y\\n',y)\n"
   ]
  },
  {
   "cell_type": "code",
   "execution_count": 5,
   "metadata": {},
   "outputs": [
    {
     "data": {
      "text/plain": [
       "15"
      ]
     },
     "execution_count": 5,
     "metadata": {},
     "output_type": "execute_result"
    }
   ],
   "source": [
    "X.shape[1]"
   ]
  },
  {
   "cell_type": "code",
   "execution_count": 6,
   "metadata": {},
   "outputs": [],
   "source": [
    "input_layer_size  = 15\n",
    "num_labels = 2\n",
    "m = y.size"
   ]
  },
  {
   "cell_type": "code",
   "execution_count": 7,
   "metadata": {},
   "outputs": [],
   "source": [
    "# def calcularSigmoide(z):\n",
    "#     # Calcula la sigmoide de z.\n",
    "\n",
    "#     return 1.0 / (1.0 + np.exp(-z))\n",
    "from scipy.special import expit\n",
    "def calcularSigmoide(z):\n",
    "    return expit(z)\n"
   ]
  },
  {
   "cell_type": "code",
   "execution_count": 8,
   "metadata": {},
   "outputs": [],
   "source": [
    "def calcularCosto(theta, X, y, lambda_):\n",
    "    # Inicializa algunos valores utiles\n",
    "    m = y.size\n",
    "    \n",
    "    # convierte las etiquetas a valores enteros si son boleanos\n",
    "    if y.dtype == bool:\n",
    "        y = y.astype(int)\n",
    "    \n",
    "    J = 0\n",
    "    grad = np.zeros(theta.shape)\n",
    "    \n",
    "    h = calcularSigmoide(X.dot(theta.T))\n",
    "    \n",
    "    temp = theta\n",
    "    temp[0] = 0\n",
    "    \n",
    "    J = (1 / m) * np.sum(-y.dot(np.log(h)) - (1 - y).dot(np.log(1 - h))) + (lambda_ / (2 * m)) * np.sum(np.square(temp))\n",
    "    \n",
    "    grad = (1 / m) * (h - y).dot(X)\n",
    "    # Se aplica regularizacion en la siguiente linea \n",
    "    grad = grad + (lambda_ / m) * temp\n",
    "\n",
    "    return J, grad"
   ]
  },
  {
   "cell_type": "code",
   "execution_count": 9,
   "metadata": {},
   "outputs": [
    {
     "name": "stdout",
     "output_type": "stream",
     "text": [
      "[[1.  0.1 0.6 1.1]\n",
      " [1.  0.2 0.7 1.2]\n",
      " [1.  0.3 0.8 1.3]\n",
      " [1.  0.4 0.9 1.4]\n",
      " [1.  0.5 1.  1.5]]\n"
     ]
    }
   ],
   "source": [
    "# valores de prueba para los parámetros theta\n",
    "theta_t = np.array([-2, -1, 1, 2], dtype=float)\n",
    "\n",
    "# valores de prueba para las entradas\n",
    "X_t = np.concatenate((np.ones((5, 1)), np.arange(1, 16).reshape(5, 3, order='F')/10.0), axis=1)\n",
    "print(X_t)\n",
    "# valores de testeo para las etiquetas\n",
    "y_t = np.array([1, 0, 1, 0, 1])\n",
    "\n",
    "# valores de testeo para el parametro de regularizacion\n",
    "lambda_t = 2"
   ]
  },
  {
   "cell_type": "code",
   "execution_count": 10,
   "metadata": {},
   "outputs": [
    {
     "name": "stdout",
     "output_type": "stream",
     "text": [
      "Costo         : 1.934819\n",
      "Costo esperadot: 2.534819\n",
      "-----------------------\n",
      "Gradientes:\n",
      " [0.146561, -0.348558, 0.524722, 0.998003]\n",
      "Gradientes esperados:\n",
      " [0.146561, -0.548558, 0.724722, 1.398003]\n"
     ]
    }
   ],
   "source": [
    "J, grad = calcularCosto(theta_t, X_t, y_t, lambda_t)\n",
    "\n",
    "print('Costo         : {:.6f}'.format(J))\n",
    "print('Costo esperadot: 2.534819')\n",
    "print('-----------------------')\n",
    "print('Gradientes:')\n",
    "print(' [{:.6f}, {:.6f}, {:.6f}, {:.6f}]'.format(*grad))\n",
    "print('Gradientes esperados:')\n",
    "print(' [0.146561, -0.548558, 0.724722, 1.398003]');"
   ]
  },
  {
   "cell_type": "code",
   "execution_count": 11,
   "metadata": {},
   "outputs": [],
   "source": [
    "def oneVsAll(X, y, num_labels, lambda_):\n",
    "    \n",
    "    m, n = X.shape\n",
    "    \n",
    "    all_theta = np.zeros((num_labels, n + 1))\n",
    "\n",
    "    # Agrega unos a la matriz X\n",
    "    X = np.concatenate([np.ones((m, 1)), X], axis=1)\n",
    "\n",
    "\n",
    "    for c in np.arange(num_labels):\n",
    "        initial_theta = np.zeros(n + 1)\n",
    "        options = {'maxiter': 50}\n",
    "        res = optimize.minimize(calcularCosto, \n",
    "                                initial_theta, \n",
    "                                (X, (y == (c + 1)), lambda_), \n",
    "                                jac=True, \n",
    "                                method='BFGS',\n",
    "                                options=options) \n",
    "        all_theta[c] = res.x\n",
    "\n",
    "    return all_theta"
   ]
  },
  {
   "cell_type": "code",
   "execution_count": 12,
   "metadata": {},
   "outputs": [
    {
     "name": "stderr",
     "output_type": "stream",
     "text": [
      "<ipython-input-8-d1ad24806257>:17: RuntimeWarning: divide by zero encountered in log\n",
      "  J = (1 / m) * np.sum(-y.dot(np.log(h)) - (1 - y).dot(np.log(1 - h))) + (lambda_ / (2 * m)) * np.sum(np.square(temp))\n",
      "<ipython-input-8-d1ad24806257>:17: RuntimeWarning: divide by zero encountered in log\n",
      "  J = (1 / m) * np.sum(-y.dot(np.log(h)) - (1 - y).dot(np.log(1 - h))) + (lambda_ / (2 * m)) * np.sum(np.square(temp))\n",
      "<ipython-input-8-d1ad24806257>:17: RuntimeWarning: divide by zero encountered in log\n",
      "  J = (1 / m) * np.sum(-y.dot(np.log(h)) - (1 - y).dot(np.log(1 - h))) + (lambda_ / (2 * m)) * np.sum(np.square(temp))\n",
      "<ipython-input-8-d1ad24806257>:17: RuntimeWarning: divide by zero encountered in log\n",
      "  J = (1 / m) * np.sum(-y.dot(np.log(h)) - (1 - y).dot(np.log(1 - h))) + (lambda_ / (2 * m)) * np.sum(np.square(temp))\n"
     ]
    }
   ],
   "source": [
    "lambda_ = 0.001\n",
    "all_theta = oneVsAll(X, y, num_labels, lambda_)"
   ]
  },
  {
   "cell_type": "code",
   "execution_count": 13,
   "metadata": {},
   "outputs": [
    {
     "name": "stdout",
     "output_type": "stream",
     "text": [
      "[[ 1.25466936e-05  2.07256407e-04  2.52492689e-02  5.40272669e-05\n",
      "   5.81769516e-05  3.10494052e-05  2.13993542e-05  1.77541410e-05\n",
      "   1.28396125e-05  1.00928213e+00  9.01376601e-05  4.20826844e-05\n",
      "   2.84953638e-02  1.35393633e-05  1.33440840e-05  2.36450659e-05]\n",
      " [-1.33600417e-05 -2.11503034e-04 -2.68779605e-02 -5.75267677e-05\n",
      "  -6.18848562e-05 -3.30643171e-05 -2.23048396e-05 -1.88183689e-05\n",
      "  -1.37315509e-05 -1.00910857e+00 -9.60637008e-05 -4.47811451e-05\n",
      "  -3.28239363e-02 -1.49175225e-05 -1.43745475e-05 -2.52483355e-05]]\n"
     ]
    }
   ],
   "source": [
    "print(all_theta)"
   ]
  },
  {
   "cell_type": "code",
   "execution_count": 14,
   "metadata": {},
   "outputs": [],
   "source": [
    "def predictOneVsAll(all_theta, X):\n",
    "    m = X.shape[0];\n",
    "    num_labels = all_theta.shape[0]\n",
    "\n",
    "    p = np.zeros(m)\n",
    "\n",
    "    # Add ones to the X data matrix\n",
    "    X = np.concatenate([np.ones((m, 1)), X], axis=1)\n",
    "    p = np.argmax(calcularSigmoide(X.dot(all_theta.T)), axis = 1)\n",
    "    return p + 1"
   ]
  },
  {
   "cell_type": "code",
   "execution_count": 15,
   "metadata": {},
   "outputs": [
    {
     "name": "stdout",
     "output_type": "stream",
     "text": [
      "(935, 15)\n",
      "Precision del conjuto de entrenamiento: 91.23%\n",
      "(10, 15)\n",
      "10\n",
      "[[1.0000e+00 3.5000e+01 2.0130e+03 2.0000e+00 2.0000e+00 2.0000e+00\n",
      "  3.0000e+00 2.0000e+00 1.0000e+00 1.3800e+03 1.0000e+00 2.0000e+00\n",
      "  1.6000e+03 1.0000e+00 1.0000e+00 2.0000e+00]\n",
      " [1.0000e+00 3.5000e+01 2.0120e+03 4.0000e+00 5.0000e+00 2.0000e+00\n",
      "  1.0000e+00 2.0000e+00 1.0000e+00 4.0000e+03 4.0000e+00 2.0000e+00\n",
      "  1.6000e+03 1.0000e+00 1.0000e+00 2.0000e+00]\n",
      " [1.0000e+00 3.5000e+01 2.0120e+03 5.0000e+00 5.0000e+00 2.0000e+00\n",
      "  1.0000e+00 2.0000e+00 1.0000e+00 6.0000e+03 2.0000e+00 3.0000e+00\n",
      "  2.0000e+03 1.0000e+00 1.0000e+00 2.0000e+00]\n",
      " [1.0000e+00 9.0000e+00 2.0190e+03 5.0000e+00 5.0000e+00 2.0000e+00\n",
      "  2.0000e+00 1.0000e+00 1.0000e+00 6.4370e+03 7.0000e+00 3.0000e+00\n",
      "  2.5000e+03 1.0000e+00 1.0000e+00 2.0000e+00]\n",
      " [1.0000e+00 8.0000e+00 2.0140e+03 4.0000e+00 5.0000e+00 2.0000e+00\n",
      "  1.0000e+00 2.0000e+00 1.0000e+00 1.4000e+04 3.0000e+00 3.0000e+00\n",
      "  2.0000e+03 1.0000e+00 1.0000e+00 2.0000e+00]\n",
      " [1.0000e+00 9.0000e+00 1.9930e+03 5.0000e+00 5.0000e+00 2.0000e+00\n",
      "  2.0000e+00 1.0000e+00 1.0000e+00 1.5000e+04 4.0000e+00 4.0000e+00\n",
      "  4.0000e+03 2.0000e+00 1.0000e+00 2.0000e+00]\n",
      " [1.0000e+00 5.0000e+00 2.0130e+03 4.0000e+00 5.0000e+00 2.0000e+00\n",
      "  1.0000e+00 2.0000e+00 1.0000e+00 1.8025e+04 1.0000e+00 3.0000e+00\n",
      "  2.4000e+03 1.0000e+00 1.0000e+00 2.0000e+00]\n",
      " [1.0000e+00 3.5000e+01 2.0160e+03 4.0000e+00 5.0000e+00 1.0000e+00\n",
      "  1.0000e+00 2.0000e+00 1.0000e+00 1.8450e+04 3.0000e+00 3.0000e+00\n",
      "  1.6000e+03 1.0000e+00 1.0000e+00 2.0000e+00]\n",
      " [1.0000e+00 8.0000e+00 2.0090e+03 2.0000e+00 2.0000e+00 2.0000e+00\n",
      "  1.0000e+00 1.0000e+00 1.0000e+00 1.9312e+04 3.0000e+00 4.0000e+00\n",
      "  1.0000e+03 1.0000e+00 2.0000e+00 2.0000e+00]\n",
      " [1.0000e+00 3.1000e+01 2.0120e+03 5.0000e+00 5.0000e+00 1.0000e+00\n",
      "  1.0000e+00 1.0000e+00 1.0000e+00 2.0000e+04 4.0000e+00 4.0000e+00\n",
      "  2.0000e+03 1.0000e+00 1.0000e+00 2.0000e+00]]\n",
      "[1 1 1 1 1 1 1 1 1 1]\n"
     ]
    }
   ],
   "source": [
    "print(X.shape)\n",
    "pred = predictOneVsAll(all_theta, X)\n",
    "print('Precision del conjuto de entrenamiento: {:.2f}%'.format(np.mean(pred == y) * 100))\n",
    "# XPrueba = X[10:20, :].copy()\n",
    "# yPrueba = y[10:20].copy()\n",
    "XPrueba = X[70:80, :].copy()\n",
    "yPrueba = y[70:80].copy()\n",
    "print(XPrueba.shape)\n",
    "print(len(XPrueba))\n",
    "XPrueba = np.concatenate((np.ones((10, 1)), XPrueba), axis=1)\n",
    "print(XPrueba)\n",
    "\n",
    "p = np.argmax(calcularSigmoide(XPrueba.dot(all_theta.T)), axis = 1)\n",
    "print(p + 1)"
   ]
  }
 ],
 "metadata": {
  "interpreter": {
   "hash": "bb338a7af8bee7a4f8c6c500b14c94f8cf5b097839cd06f5a690a6b9c66eb0bc"
  },
  "kernelspec": {
   "display_name": "Python 3.8.8 64-bit ('base': conda)",
   "language": "python",
   "name": "python3"
  },
  "language_info": {
   "codemirror_mode": {
    "name": "ipython",
    "version": 3
   },
   "file_extension": ".py",
   "mimetype": "text/x-python",
   "name": "python",
   "nbconvert_exporter": "python",
   "pygments_lexer": "ipython3",
   "version": "3.8.8"
  },
  "orig_nbformat": 4
 },
 "nbformat": 4,
 "nbformat_minor": 2
}
